{
 "cells": [
  {
   "cell_type": "code",
   "execution_count": 90,
   "metadata": {},
   "outputs": [],
   "source": [
    "import pandas as pd\n",
    "\n",
    "def print_stats(df):\n",
    "    print(\"Análise Descritiva dos Dados\")\n",
    "    print(df.groupby('selectionMethod')['lowestFitness'].agg(['count', 'min', 'mean', 'max', 'std']))"
   ]
  },
  {
   "cell_type": "code",
   "execution_count": 91,
   "metadata": {},
   "outputs": [
    {
     "name": "stdout",
     "output_type": "stream",
     "text": [
      "Análise Descritiva dos Dados\n",
      "                 count     min       mean     max           std\n",
      "selectionMethod                                                \n",
      "ROULETTE            20  182810  219382.40  254579  24272.472891\n",
      "TOURNAMENT          20  178532  220034.75  253944  23588.618024\n",
      "\n",
      "\n",
      "selectionMethod  ROULETTE  TOURNAMENT\n",
      "iteration                            \n",
      "0                  199413      199274\n",
      "1                  185939      185722\n",
      "2                  229517      230551\n",
      "3                  261925      260480\n",
      "4                  256597      256555\n",
      "5                  259625      259096\n",
      "6                  213687      215150\n",
      "7                  213667      212825\n",
      "8                  233632      232343\n",
      "9                  259898      259377\n",
      "10                 219283      219771\n",
      "11                 245737      247492\n",
      "12                 257988      257307\n",
      "13                 219783      219698\n",
      "14                 213235      209309\n",
      "15                 210779      210099\n",
      "16                 223496      225542\n",
      "17                 197711      196053\n",
      "18                 236290      235562\n",
      "19                 256509      256894\n"
     ]
    }
   ],
   "source": [
    "df = pd.read_csv('out1.csv')\n",
    "print_stats(df)\n",
    "print(\"\\n\")\n",
    "evolucao_fitness = df.pivot(index='iteration', columns='selectionMethod', values='averageFitness')\n",
    "print(evolucao_fitness)"
   ]
  },
  {
   "cell_type": "code",
   "execution_count": 92,
   "metadata": {},
   "outputs": [
    {
     "name": "stdout",
     "output_type": "stream",
     "text": [
      "Análise Descritiva dos Dados\n",
      "                 count     min        mean     max           std\n",
      "selectionMethod                                                 \n",
      "ROULETTE            40  163418  202789.475  249504  24563.314321\n"
     ]
    }
   ],
   "source": [
    "df = pd.read_csv('out2.csv')\n",
    "print_stats(df)"
   ]
  },
  {
   "cell_type": "code",
   "execution_count": 93,
   "metadata": {},
   "outputs": [
    {
     "name": "stdout",
     "output_type": "stream",
     "text": [
      "Análise Descritiva dos Dados\n",
      "                 count     min        mean     max           std\n",
      "selectionMethod                                                 \n",
      "ROULETTE            40  158300  203873.675  249505  23644.330134\n"
     ]
    }
   ],
   "source": [
    "df = pd.read_csv('out3.csv')\n",
    "print_stats(df)"
   ]
  },
  {
   "cell_type": "code",
   "execution_count": 94,
   "metadata": {},
   "outputs": [
    {
     "name": "stdout",
     "output_type": "stream",
     "text": [
      "Análise Descritiva dos Dados\n",
      "                 count     min       mean     max           std\n",
      "selectionMethod                                                \n",
      "ROULETTE            40  160852  206216.05  250277  22547.372863\n"
     ]
    }
   ],
   "source": [
    "df = pd.read_csv('out4.csv')\n",
    "print_stats(df)"
   ]
  }
 ],
 "metadata": {
  "kernelspec": {
   "display_name": "Python 3",
   "language": "python",
   "name": "python3"
  },
  "language_info": {
   "codemirror_mode": {
    "name": "ipython",
    "version": 3
   },
   "file_extension": ".py",
   "mimetype": "text/x-python",
   "name": "python",
   "nbconvert_exporter": "python",
   "pygments_lexer": "ipython3",
   "version": "3.13.2"
  }
 },
 "nbformat": 4,
 "nbformat_minor": 2
}
