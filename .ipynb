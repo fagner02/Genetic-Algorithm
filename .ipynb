{
 "cells": [
  {
   "cell_type": "code",
   "execution_count": 95,
   "metadata": {},
   "outputs": [],
   "source": [
    "import pandas as pd\n",
    "\n",
    "def print_stats(df):\n",
    "    print(\"Análise Descritiva dos Dados\")\n",
    "    print(df.groupby('selectionMethod')['lowestFitness'].agg(['count', 'min', 'mean', 'max', 'std']))"
   ]
  },
  {
   "cell_type": "code",
   "execution_count": 96,
   "metadata": {},
   "outputs": [
    {
     "name": "stdout",
     "output_type": "stream",
     "text": [
      "Análise Descritiva dos Dados\n",
      "                 count     min      mean     max           std\n",
      "selectionMethod                                               \n",
      "ROULETTE            20  163217  204819.9  253632  26834.584507\n",
      "TOURNAMENT          20  168610  205108.1  256445  26105.245645\n",
      "\n",
      "\n",
      "selectionMethod  ROULETTE  TOURNAMENT\n",
      "iteration                            \n",
      "0                  198104      198925\n",
      "1                  171658      172083\n",
      "2                  195413      195175\n",
      "3                  225956      225296\n",
      "4                  218015      221598\n",
      "5                  254389      253659\n",
      "6                  258191      256001\n",
      "7                  248463      248675\n",
      "8                  190278      192134\n",
      "9                  188661      188219\n",
      "10                 200381      200879\n",
      "11                 202490      202499\n",
      "12                 205588      205644\n",
      "13                 205932      206337\n",
      "14                 236921      241389\n",
      "15                 253968      253486\n",
      "16                 199861      200966\n",
      "17                 208619      210555\n",
      "18                 268502      268614\n",
      "19                 180778      180213\n"
     ]
    }
   ],
   "source": [
    "df = pd.read_csv('out1.csv')\n",
    "print_stats(df)\n",
    "print(\"\\n\")\n",
    "evolucao_fitness = df.pivot(index='iteration', columns='selectionMethod', values='averageFitness')\n",
    "print(evolucao_fitness)"
   ]
  },
  {
   "cell_type": "code",
   "execution_count": 92,
   "metadata": {},
   "outputs": [
    {
     "name": "stdout",
     "output_type": "stream",
     "text": [
      "Análise Descritiva dos Dados\n",
      "                 count     min        mean     max           std\n",
      "selectionMethod                                                 \n",
      "ROULETTE            40  163418  202789.475  249504  24563.314321\n"
     ]
    }
   ],
   "source": [
    "df = pd.read_csv('out2.csv')\n",
    "print_stats(df)"
   ]
  },
  {
   "cell_type": "code",
   "execution_count": 93,
   "metadata": {},
   "outputs": [
    {
     "name": "stdout",
     "output_type": "stream",
     "text": [
      "Análise Descritiva dos Dados\n",
      "                 count     min        mean     max           std\n",
      "selectionMethod                                                 \n",
      "ROULETTE            40  158300  203873.675  249505  23644.330134\n"
     ]
    }
   ],
   "source": [
    "df = pd.read_csv('out3.csv')\n",
    "print_stats(df)"
   ]
  },
  {
   "cell_type": "code",
   "execution_count": 94,
   "metadata": {},
   "outputs": [
    {
     "name": "stdout",
     "output_type": "stream",
     "text": [
      "Análise Descritiva dos Dados\n",
      "                 count     min       mean     max           std\n",
      "selectionMethod                                                \n",
      "ROULETTE            40  160852  206216.05  250277  22547.372863\n"
     ]
    }
   ],
   "source": [
    "df = pd.read_csv('out4.csv')\n",
    "print_stats(df)"
   ]
  }
 ],
 "metadata": {
  "kernelspec": {
   "display_name": "Python 3",
   "language": "python",
   "name": "python3"
  },
  "language_info": {
   "codemirror_mode": {
    "name": "ipython",
    "version": 3
   },
   "file_extension": ".py",
   "mimetype": "text/x-python",
   "name": "python",
   "nbconvert_exporter": "python",
   "pygments_lexer": "ipython3",
   "version": "3.13.2"
  }
 },
 "nbformat": 4,
 "nbformat_minor": 2
}
